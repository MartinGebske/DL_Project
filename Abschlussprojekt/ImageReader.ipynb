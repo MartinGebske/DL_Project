{
 "cells": [
  {
   "cell_type": "code",
   "execution_count": 4,
   "id": "63c17cb6",
   "metadata": {},
   "outputs": [],
   "source": [
    "import cv2\n",
    "import glob\n",
    "import os"
   ]
  },
  {
   "cell_type": "markdown",
   "id": "326cf9bc",
   "metadata": {},
   "source": [
    "# Capturing Vorbereitung"
   ]
  },
  {
   "cell_type": "code",
   "execution_count": 18,
   "id": "15b61783",
   "metadata": {},
   "outputs": [
    {
     "name": "stdout",
     "output_type": "stream",
     "text": [
      "Creation of the directory DATA/Images/Capture2/Test/DUCK failed\n"
     ]
    }
   ],
   "source": [
    "# Videocapture mit der Standardkamera - 0\n",
    "cap = cv2.VideoCapture(0)\n",
    "\n",
    "# Region Of Interest (ROI) Koordinaten: Inneres Viertel\n",
    "height, width = int(cap.get(cv2.CAP_PROP_FRAME_HEIGHT)), int(cap.get(cv2.CAP_PROP_FRAME_WIDTH))\n",
    "upper_left = (width // 4, height // 4)\n",
    "bottom_right = (width * 3 // 4, height * 3 // 4)\n",
    "\n",
    "font = cv2.FONT_HERSHEY_SIMPLEX\n",
    "testtext = \"Adjust scannable object with ROI. Hold 'R' to record, Press 'Q to quit'\"\n",
    "\n",
    "# Capture Verzeichnis erstellen (wenn nicht vorhanden) und entsprechenden Pfad setzen\n",
    "#path = \"DATA/Images/Capture2/Train/LION\"\n",
    "#path = \"DATA/Images/Capture2/Test/LION\"\n",
    "#path = \"DATA/Images/Capture2/Train/DUCK\"\n",
    "path = \"DATA/Images/Capture2/Test/DUCK\"\n",
    "\n",
    "try:\n",
    "    os.mkdir(path)\n",
    "except OSError:\n",
    "    print (\"Creation of the directory %s failed\" % path)\n",
    "else:\n",
    "    print (\"Successfully created the directory %s \" % path)"
   ]
  },
  {
   "cell_type": "markdown",
   "id": "64972193",
   "metadata": {},
   "source": [
    "# Capturing Process"
   ]
  },
  {
   "cell_type": "code",
   "execution_count": 19,
   "id": "636e3b7f",
   "metadata": {},
   "outputs": [],
   "source": [
    "framecount = 0\n",
    "\n",
    "while(True):\n",
    "    ret, frame = cap.read(0)\n",
    "    \n",
    "\n",
    "\n",
    "    frame = cv2.flip(frame,1)\n",
    "    \n",
    "    # K als waitKey wird gecached, weil er mehrmals aufgerufen wird\n",
    "    k = cv2.waitKey(1) & 0xFF\n",
    "\n",
    "    # 'Q' für Quit\n",
    "    if k == ord(\"q\"):\n",
    "        break\n",
    "\n",
    "    # ROI ausschneiden und in Graustufen speichern\n",
    "    elif k == ord(\"r\"):\n",
    "        crop = frame[120:360,160:480,1] \n",
    "\n",
    "        cv2.imwrite(path + \"/frame%d.jpg\" % framecount, crop)\n",
    "    framecount +=1\n",
    "    \n",
    "    # Visuelle Anzeige der ROI\n",
    "    rect= cv2.rectangle(frame, upper_left, bottom_right, (0,255,0), thickness = 2)\n",
    "\n",
    "    c = str(len(glob.glob(path + \"/*\"))) + \" images captured\"\n",
    "    \n",
    "    # Anleitungstext\n",
    "    cv2.putText(frame, text=testtext, org=(40,400), fontFace=font, fontScale=0.5, color=(0, 255, 0), thickness=1, lineType=cv2.LINE_AA)  \n",
    "    cv2.putText(frame, c, (40,450) , font, 0.4, (0,0,255), 1 , cv2.LINE_AA)\n",
    "    \n",
    "    cv2.imshow(\"Record your Image!\",frame)\n",
    "    \n",
    "\n",
    "cap.release()\n",
    "cv2.destroyAllWindows()"
   ]
  }
 ],
 "metadata": {
  "kernelspec": {
   "display_name": "Python 3",
   "language": "python",
   "name": "python3"
  },
  "language_info": {
   "codemirror_mode": {
    "name": "ipython",
    "version": 3
   },
   "file_extension": ".py",
   "mimetype": "text/x-python",
   "name": "python",
   "nbconvert_exporter": "python",
   "pygments_lexer": "ipython3",
   "version": "3.8.8"
  }
 },
 "nbformat": 4,
 "nbformat_minor": 5
}
